{
 "cells": [
  {
   "cell_type": "code",
   "execution_count": null,
   "metadata": {
    "id": "zCnefUs55_jD"
   },
   "outputs": [],
   "source": [
    "# only 4 anaconda users\n",
    "# for our project we need to install some packages\n",
    "# in a lokal IDE  this must be done via console or the anaconda package manager\n",
    "\n",
    "#Windows\n",
    "!install https://support.microsoft.com/en-us/help/2977003/the-latest-supported-visual-c-downloads\n",
    "!install https://visualstudio.microsoft.com/de/thank-you-downloading-visual-studio/?sku=Community&rel=15\n",
    "!pip install pm4py\n",
    "!pip install graphviz\n",
    "!pip install pm4pybpmn\n",
    "#!pip install pygraphviz\n",
    "\n",
    "#mac\n",
    "  # pip install pm4py\n",
    "  # python -c \"import pm4py\"\n",
    "  # pip install graphviz\n",
    "  # pip install pm4pybpmn\n",
    "  # pip install pygraphviz\n",
    "\n",
    "\n",
    "#linux\n",
    "  # g++ -v\n",
    "  # apt-get install graphviz\n",
    "  # pip install pm4py\n",
    "  # pip install graphviz\n",
    "  # pip install pm4pybpmn\n",
    "  # pip install pygraphviz"
   ]
  },
  {
   "cell_type": "code",
   "execution_count": null,
   "metadata": {
    "id": "jMFLgTLz6OTC"
   },
   "outputs": [],
   "source": [
    "#import von Libs für COLAB\n",
    "if 'google.colab' in str(get_ipython()):\n",
    "    !pip install pm4py\n",
    "    !apt-get install graphviz\n",
    "  #!pip install graphviz\n",
    "  #!apt-get install python3-tk\n",
    "  #!apt install libblas-dev\n",
    "  #!apt install liblapack-dev\n",
    "  #!apt install libsuitesparse-dev\n",
    "\n",
    "from IPython.display import Image"
   ]
  },
  {
   "cell_type": "markdown",
   "metadata": {
    "id": "tSzcTTnj41bz"
   },
   "source": [
    "# Process Mining"
   ]
  },
  {
   "cell_type": "markdown",
   "metadata": {
    "id": "b7k55nmT46E9"
   },
   "source": [
    "You should already know what process mining is from the lecture. In the following, we will look at the technical side of the basics of process mining, the data and algorithms behind the buzzword. In order to ensure a deeper insight into the topic, we want to provide an understanding of event logs, common process discovery algorithms and forms of visualisation."
   ]
  },
  {
   "cell_type": "markdown",
   "metadata": {
    "id": "4y4Jt7Be5FSd"
   },
   "source": [
    "## 1. Event log"
   ]
  },
  {
   "cell_type": "markdown",
   "metadata": {
    "id": "RIDxJV7b5IsR"
   },
   "source": [
    "As already mentioned, event logs are the basis for process mining. Event logs are often not available in operational application systems ( BAS such as ERP / CRM / etc.) in the form in which they are actually required for process mining. In most cases, the event logs first have to be reconstructed from database entries in the IT systems. This reconstruction is often not a simple task, as the syntax, semantics and foreign keys of different tables in a database represent complex relationships.\n",
    "\n",
    "Process mining solutions such as those from Celonis, which has become known in Germany as the innovative unicorn of IT for its process mining solution, offer ready-made extractors. These enable a technical connection to the systems and the automated creation of event logs from the database tables. However, as you can easily imagine, the accuracy of the automatically extracted logs is linked to the fact that companies have adapted the standard process developed by the IT system manufacturer in the BAS. Adaptations to the process or the BAS can lead to deviations, which means that extractors also have to be adapted.\n",
    "\n",
    "<img src=\"https://github.com/JMU-BWL6/IIV_2020_PM/blob/main/1.png?raw=1\">\n",
    "\n",
    "For simplification purposes, the reconstruction and export of such event logs is neglected. In the following, it is therefore assumed that an event log has already been extracted in the form of a file.\n",
    "\n",
    "In general, the event log can be visualised as a table (see below) in which the activities carried out by users in the IT system are stored together on a case-by-case basis and with a time stamp. Other data can also be included, e.g. to indicate costs and the person who carried out the activity, as in the example.\n",
    "\n"
   ]
  },
  {
   "cell_type": "markdown",
   "metadata": {
    "id": "fil4mUzVsBKk"
   },
   "source": [
    "|Case ID\t| Event ID | dd-MM-yyyy:HH.mm |\tActivity | Resource | Costs |\n",
    "| :--- | :--- | :--- | :--- | :--- | :--- |\n",
    "| 1 | 35654423\t| 30-12-2010:11.02\t| register request\t| Pete\t| 50 |\n",
    "| 1 | 35654424\t| 31-12-2010:10.06\t| examine thoroughly\t| Sue\t| 400 |\n",
    "| 1 | 35654425\t| 05-01-2011:15.12\t| check ticket\t| Mike\t| 100 |\n",
    "| 2 | 35654426\t| 06-01-2011:11.18\t| decide\t| Sara\t| 200|\n",
    "| 2 | 35654427\t| 07-01-2011:14.24\t| reject request\t| Pete\t| 200|"
   ]
  },
  {
   "cell_type": "markdown",
   "metadata": {
    "id": "gCKhrH3ssJWM"
   },
   "source": [
    "### 1.1 Event log formats"
   ]
  },
  {
   "cell_type": "markdown",
   "metadata": {
    "id": "nYQJVFKnsexW"
   },
   "source": [
    "Event logs can be available in different file formats. Typical file formats are CSV, XML and XES. While CSV is similar to the table example above and represents the minimum form, XML and XES represent more complex formats in which the data can be grouped and organised. IEEE XES is an XML-based standard format that describes how event logs are stored and prescribes syntactic rules. Further information about the format can be found on the IEEE XES website (http://www.xes-standard.org/).\n",
    "The following figure shows an example of an XES file.\n",
    "\n",
    "<img src=\"https://github.com/JMU-BWL6/IIV_2020_PM/blob/main/2.png?raw=1\">"
   ]
  },
  {
   "cell_type": "markdown",
   "metadata": {
    "id": "DYdoc87Js80o"
   },
   "source": [
    "### 1.2 Load event log"
   ]
  },
  {
   "cell_type": "markdown",
   "metadata": {
    "id": "pc8naeKZs-qu"
   },
   "source": [
    "This section presents information about importing and exporting event logs stored in different data formats. Before we dive into the details of importing and exporting different types of event data files, we will first briefly explain the two basic concepts of event logs. We assume that the reader is familiar with the general concept of an event log. In general, we distinguish between two different object types of event data:"
   ]
  },
  {
   "cell_type": "markdown",
   "metadata": {
    "id": "1TD5zwr_tlvo"
   },
   "source": [
    "- **Event streams** (objects.log.log.EventStream); Simply represent a sequence of events. The events themselves are simply an extension of python's mapping class (collections.abc.mapping), which allows events to be used as dictation. From a programming point of view, an event stream behaves exactly like a list object in Python. However, when using Lambda functions, the result must be explicitly cast to an EventStream object.\n",
    "\n",
    "\n",
    "- **Event Log** (objects.log.log.EventLog); Represents a sequence of event sequences. The concept of an event log is the more traditional view of event data, i.e. the executions of a process are recorded in steps of events, with timestamps as order. In this way, the sorting of traces according to a specific sorting criterion is supported in a natural way, and lambda functions and filters can also be easily applied to event logs."
   ]
  },
  {
   "cell_type": "markdown",
   "metadata": {
    "id": "FPiPUQvUuBiB"
   },
   "source": [
    "The sample code shows how an IEEE XES file is imported. The code fragment uses the standard importer. Please note that IEEE XES event logs are imported into an event log object (objects.log.log.Eventlog). The importer converts the file into a Python dict object (https://docs.python.org/3/tutorial/datastructures.html#dictionaries). By adding TIMESTAMP_SORT to the parameters, the event log is sorted according to the timestamp during import.\n",
    "\n",
    "*Important: the .xes file must be located in the same folder as the Python notebook during execution, otherwise the path to the file must be specified.*"
   ]
  },
  {
   "cell_type": "code",
   "execution_count": null,
   "metadata": {
    "colab": {
     "base_uri": "https://localhost:8080/"
    },
    "executionInfo": {
     "elapsed": 6854,
     "status": "ok",
     "timestamp": 1705907978377,
     "user": {
      "displayName": "Jenny",
      "userId": "12372960833436205383"
     },
     "user_tz": -60
    },
    "id": "jmlWYrAOuWxF",
    "outputId": "3957d863-024f-4e75-bd59-4f1ec6f53446"
   },
   "outputs": [],
   "source": [
    "#get & load LOG\n",
    "#!pip install wget\n",
    "\n",
    "!wget https://bitbucket.org/jmu-iiv-2020/iiv_2020_1/raw/fe305beff8605517f799474ccec9fd41598a6ffb/Hospital_log.xes"
   ]
  },
  {
   "cell_type": "code",
   "execution_count": null,
   "metadata": {
    "colab": {
     "base_uri": "https://localhost:8080/",
     "height": 49,
     "referenced_widgets": [
      "b97798a0aee5476cbd39d4703ebe38eb",
      "547483a75241451cb2522fb4bf72243b",
      "40e44b846d8f4e9688c9dea2d8dc6a36",
      "570654d52d81457e8b8a18955e17ceaf",
      "ca73b85843a941559f832bfc4d697ed3",
      "0c63c5db4ac541658f886f6906711cc1",
      "31a5361b6687428db1c1bd4246a0a355",
      "fe970ccbc2bf47c5aed6ae2f0aa21cb4",
      "e98727718f074cc4ae8c236470fc6c9d",
      "11f5dcc2e3f64d7f843e8c25153334f4",
      "2cbce969b11e4e23aae20236f19ed502"
     ]
    },
    "executionInfo": {
     "elapsed": 24905,
     "status": "ok",
     "timestamp": 1705908006283,
     "user": {
      "displayName": "Jenny",
      "userId": "12372960833436205383"
     },
     "user_tz": -60
    },
    "id": "2jsTSta3udV9",
    "outputId": "32592fdf-0e72-41f2-c065-da1163924d68"
   },
   "outputs": [],
   "source": [
    "from pm4py.objects.log.importer.xes import importer as xes_importer\n",
    "variant = xes_importer.Variants.ITERPARSE\n",
    "parameters = {variant.value.Parameters.TIMESTAMP_SORT: True}\n",
    "log = xes_importer.apply('Hospital_log.xes', variant=variant, parameters=parameters)"
   ]
  },
  {
   "cell_type": "code",
   "execution_count": null,
   "metadata": {
    "colab": {
     "base_uri": "https://localhost:8080/"
    },
    "executionInfo": {
     "elapsed": 660,
     "status": "ok",
     "timestamp": 1705908010997,
     "user": {
      "displayName": "Jenny",
      "userId": "12372960833436205383"
     },
     "user_tz": -60
    },
    "id": "bYzkkRvxulCZ",
    "outputId": "a6266c5d-f93a-4bf6-b69f-91c6df93dc8d"
   },
   "outputs": [],
   "source": [
    "#download a second logfile\n",
    "!wget https://raw.githubusercontent.com/JMU-BWL6/IIV_2020_PM/main/running-example.xes"
   ]
  },
  {
   "cell_type": "code",
   "execution_count": null,
   "metadata": {
    "colab": {
     "base_uri": "https://localhost:8080/",
     "height": 49,
     "referenced_widgets": [
      "29985edc59ce4e2b819fac7cfc920e94",
      "16075178653f4b5f968cca228ff1da45",
      "99065464d0e746ad9009d769d99d44ec",
      "7030aff974a94a288581f79c1bd14141",
      "01651710823149ca996a19fbe46ffcf3",
      "494480911ff840a5a0e4df14bc5a04a5",
      "642921bad7d049f397ec9aa04207065c",
      "ba11c5917aa544558b958440aa592922",
      "7911fbe2ff344a17a1533ac3446bfd8b",
      "b9bc7d9b569d4a028e44f9f64f2e2b7f",
      "3e46468590ba43deb41bb61b53f46111"
     ]
    },
    "executionInfo": {
     "elapsed": 369,
     "status": "ok",
     "timestamp": 1705908017667,
     "user": {
      "displayName": "Jenny",
      "userId": "12372960833436205383"
     },
     "user_tz": -60
    },
    "id": "cQnc5WxMul6i",
    "outputId": "815de430-22eb-4334-c345-334c2d07122b"
   },
   "outputs": [],
   "source": [
    "#load the second logfile\n",
    "from pm4py.objects.log.importer.xes import importer as xes_importer\n",
    "variant = xes_importer.Variants.ITERPARSE\n",
    "parameters = {variant.value.Parameters.TIMESTAMP_SORT: True}\n",
    "log1 = xes_importer.apply('running-example.xes', variant=variant, parameters=parameters)"
   ]
  },
  {
   "cell_type": "markdown",
   "metadata": {
    "id": "2rIAxN6BuuPT"
   },
   "source": [
    "After execution, 1143 of 1143 activities should have been extracted from the event log."
   ]
  },
  {
   "cell_type": "markdown",
   "metadata": {
    "id": "VkJQriPLuzEJ"
   },
   "source": [
    "### 1.3 Exploration"
   ]
  },
  {
   "cell_type": "markdown",
   "metadata": {
    "id": "H9Mv6Vv0vLTl"
   },
   "source": [
    "After importing, we want to view an event in the event log. In order to display the latest entry in the event log, the first entry must be read due to the sorting during import.\n",
    "\n",
    "*Important: Programming languages such as python always start counting at 0 ;)*"
   ]
  },
  {
   "cell_type": "code",
   "execution_count": null,
   "metadata": {
    "colab": {
     "base_uri": "https://localhost:8080/"
    },
    "executionInfo": {
     "elapsed": 787,
     "status": "ok",
     "timestamp": 1705908022686,
     "user": {
      "displayName": "Jenny",
      "userId": "12372960833436205383"
     },
     "user_tz": -60
    },
    "id": "O65u8CgWvR7B",
    "outputId": "aefc4599-1d74-4a5c-e32a-3b471bba3082"
   },
   "outputs": [],
   "source": [
    "print(log[0][0])"
   ]
  },
  {
   "cell_type": "markdown",
   "metadata": {
    "id": "Hb4vuAo3vdBn"
   },
   "source": [
    "If we want to view the first activity, the last event must be output accordingly."
   ]
  },
  {
   "cell_type": "code",
   "execution_count": null,
   "metadata": {
    "colab": {
     "base_uri": "https://localhost:8080/"
    },
    "executionInfo": {
     "elapsed": 575,
     "status": "ok",
     "timestamp": 1705908025401,
     "user": {
      "displayName": "Jenny",
      "userId": "12372960833436205383"
     },
     "user_tz": -60
    },
    "id": "4EgRzZrIvezP",
    "outputId": "405e64ff-b8a1-42b5-ac7c-0a488ddadc82"
   },
   "outputs": [],
   "source": [
    "print(log[1142][0])"
   ]
  },
  {
   "cell_type": "markdown",
   "metadata": {
    "id": "OQtObv90vnlc"
   },
   "source": [
    "### 1.4 Searching / filtering event data"
   ]
  },
  {
   "cell_type": "markdown",
   "metadata": {
    "id": "uED71MBNv79U"
   },
   "source": [
    "It is also possible to change the event log. For example, to remove incorrect data or exclude times. The following code removes all timestamps outside the years 2007 and 2008."
   ]
  },
  {
   "cell_type": "code",
   "execution_count": null,
   "metadata": {
    "id": "40bVTgZxwLl3"
   },
   "outputs": [],
   "source": [
    "from pm4py.algo.filtering.log.timestamp import timestamp_filter\n",
    "log_filtered = timestamp_filter.filter_traces_contained(log, \"2007-01-01 00:00:00\", \"2008-12-31 23:59:59\")"
   ]
  },
  {
   "cell_type": "code",
   "execution_count": null,
   "metadata": {
    "colab": {
     "base_uri": "https://localhost:8080/"
    },
    "executionInfo": {
     "elapsed": 1800,
     "status": "ok",
     "timestamp": 1705838574675,
     "user": {
      "displayName": "Jenny",
      "userId": "12372960833436205383"
     },
     "user_tz": -60
    },
    "id": "F1vAw3nVwTIN",
    "outputId": "29dcaf85-6d59-4be7-f18a-291ffe6a483f"
   },
   "outputs": [],
   "source": [
    "len(log_filtered)"
   ]
  },
  {
   "cell_type": "markdown",
   "metadata": {
    "id": "It8atkuzwbmV"
   },
   "source": [
    "After filtering, there are only 261 events in the log."
   ]
  },
  {
   "cell_type": "markdown",
   "metadata": {
    "id": "ZKlF8NsVwh4_"
   },
   "source": [
    "## 2. Process Discovery"
   ]
  },
  {
   "cell_type": "markdown",
   "metadata": {
    "id": "8HrxYBvCwtKb"
   },
   "source": [
    "***Process discovery algorithms*** are designed to create a suitable process model from the data that describes the sequence of events/activities that were carried out during a process execution.\n",
    "\n",
    "The following overview provides an insight into various process mining algorithms used for process discovery.\n"
   ]
  },
  {
   "cell_type": "markdown",
   "metadata": {
    "id": "x1kfVbk9wzye"
   },
   "source": [
    "| Alpha | Alpha+ | Heuristic | Inductive |\n",
    "| :--- | :--- | :--- | :--- |\n",
    "| Kann keine Schleifen der Länge eins und zwei handhaben | Kann keine Schleifen der Länge eins und zwei handhaben | Berücksichtigt die Häufigkeit | Kann mit unsichtbaren Aufgaben umgehen |\n",
    "| Unsichtbare und doppelte Aufgaben können nicht entdeckt werden |  Unsichtbare und doppelte Aufgaben können nicht entdeckt werden | Erkennt kurze Schleifen | Modell ist solide |\n",
    "|Entdecktes Modell ist möglicherweise nicht ausgereift | Entdecktes Modell ist möglicherweise nicht ausgereift | Garantiert kein fundiertes Modell | Meist verwendeter Algorithmus zur Prozessanalyse\n",
    "| Schwach gegen fehler im Log | Schwach gegen fehler im Log |    |"
   ]
  },
  {
   "cell_type": "markdown",
   "metadata": {
    "id": "w2zjY5Naw_9W"
   },
   "source": [
    "### 2.1 Flow graph"
   ]
  },
  {
   "cell_type": "markdown",
   "metadata": {
    "id": "Pbf4rXDOxEHV"
   },
   "source": [
    "**Directly-follows diagrams** are presented in this section. Directly-follows graphs are graphs where the nodes represent the events/activities in the log and there are directed edges between the nodes if there is at least one trace in the log where the source event/activity is followed by the target event/activity. Beyond these directed edges, it is easy to represent metrics such as frequency (counting how often the source event/activity is followed by the target event/activity) or performance (some aggregation, e.g. the average of the time elapsed between the two events/activities).\n",
    "\n",
    "First, the directly-follows diagram is extracted from the event log already used above. In addition, code is provided to visualise the directly-follows graph. This visualisation is a coloured representation of the directly-follows graph, decorated with the frequency of the activities."
   ]
  },
  {
   "cell_type": "code",
   "execution_count": null,
   "metadata": {
    "colab": {
     "base_uri": "https://localhost:8080/",
     "height": 660
    },
    "executionInfo": {
     "elapsed": 2031,
     "status": "ok",
     "timestamp": 1705901509655,
     "user": {
      "displayName": "Jenny",
      "userId": "12372960833436205383"
     },
     "user_tz": -60
    },
    "id": "QQnxJXxbxg2a",
    "outputId": "c64e017a-a030-4f9e-cbff-d0887954ba43"
   },
   "outputs": [],
   "source": [
    "#Import of required libraries\n",
    "from pm4py.algo.discovery.dfg import algorithm as dfg_discovery\n",
    "from pm4py.visualization.dfg import visualizer as dfg_visualization\n",
    "\n",
    "#Build Flow Graph\n",
    "dfg = dfg_discovery.apply(log1, variant=dfg_discovery.Variants.PERFORMANCE)\n",
    "\n",
    "#Export as PNG\n",
    "parameters = {dfg_visualization.Variants.PERFORMANCE.value.Parameters.FORMAT: \"png\"}\n",
    "gviz = dfg_visualization.apply(dfg, log=log1, variant=dfg_visualization.Variants.PERFORMANCE, parameters=parameters)\n",
    "dfg_visualization.save(gviz, \"1_log1.png\")\n",
    "\n",
    "# Visualisation in Jupyter Notebook\n",
    "gviz = dfg_visualization.apply(dfg, log=log1, variant=dfg_visualization.Variants.FREQUENCY)\n",
    "dfg_visualization.view(gviz)\n",
    "\n"
   ]
  },
  {
   "cell_type": "markdown",
   "metadata": {
    "id": "OQWjdm7FyFXn"
   },
   "source": [
    "### 2.2 Heuristics"
   ]
  },
  {
   "cell_type": "markdown",
   "metadata": {
    "id": "_p3_gl6-ySb0"
   },
   "source": [
    "The Heuristics Miner is an algorithm based on the Directly Follows graphs and provides a way to deal with noise and find common constructs (i.e. dependency between two activities). The output of the Heuristics Miner is a heuristic net, i.e. an object that contains the activities and the relationships between them. The heuristics network can then be converted into a Petri net. The algorithm was developed by the research group of Wil van der Aalst (https://pdfs.semanticscholar.org/1cc3/d62e27365b8d7ed6ce93b41c193d0559d086.pdf)."
   ]
  },
  {
   "cell_type": "code",
   "execution_count": null,
   "metadata": {
    "id": "zQzuw-zUyjD8"
   },
   "outputs": [],
   "source": [
    "# Import of required libraries\n",
    "from pm4py.algo.discovery.heuristics import algorithm as heuristics_miner\n",
    "from pm4py.visualization.heuristics_net import visualizer as hn_visualizer\n",
    "\n",
    "# Generate heuristic network\n",
    "heu_net = heuristics_miner.apply_heu(log, parameters={heuristics_miner.Variants.CLASSIC.value.Parameters.DEPENDENCY_THRESH: 0.99})\n"
   ]
  },
  {
   "cell_type": "code",
   "execution_count": null,
   "metadata": {
    "id": "klJcrNJLy1_D"
   },
   "outputs": [],
   "source": [
    "#Export as PNG\n",
    "parameters = {dfg_visualization.Variants.PERFORMANCE.value.Parameters.FORMAT: \"png\"}\n",
    "gviz = hn_visualizer.apply(heu_net , parameters=parameters)\n",
    "hn_visualizer.save(gviz, \"2_heu_net.png\")\n",
    "\n",
    "# Visualisation in Jupyter Notebook\n",
    "hn_visualizer.view(gviz)"
   ]
  },
  {
   "cell_type": "markdown",
   "metadata": {
    "id": "W5UkPBs9zPJV"
   },
   "source": [
    "*Note*: The output can be zoomed by double-clicking. The output is also saved as a file in the file path in which the Jupyter Notebook is saved."
   ]
  },
  {
   "cell_type": "markdown",
   "metadata": {
    "id": "bkb3NJ8vzWhv"
   },
   "source": [
    "### 2.3 IMDF"
   ]
  },
  {
   "cell_type": "markdown",
   "metadata": {
    "id": "zibJmwu50h_L"
   },
   "source": [
    "IMDF is a specific implementation of the **Inductive Miner Directly Follows algorithm** that aims to construct a solid workflow network with good fitness values (in most cases to ensure perfect replayability). The basic idea of Inductive Miner is to recognise a \"cut\" in the log (e.g. sequential cut, parallel cut, concurrent cut and loop cut) and then repeat it in sub-logs found when applying the cut until a base case is found. The Directly Follows variant avoids recursion in the sub-protocols, but uses the Directly Follows graph.\n",
    "\n",
    "Before we start, we want to import a new example from an event log."
   ]
  },
  {
   "cell_type": "markdown",
   "metadata": {
    "id": "wsKPb4aH1S8o"
   },
   "source": [
    "In the following, first the decision tree and then the workflow graph are constructed."
   ]
  },
  {
   "cell_type": "code",
   "execution_count": null,
   "metadata": {
    "id": "s7ufEgSe1a3h"
   },
   "outputs": [],
   "source": [
    "# Import of IMDF libraries for Process Trees\n",
    "import os\n",
    "from pm4py.algo.discovery.inductive import algorithm as inductive_miner\n",
    "from pm4py.visualization.process_tree import visualizer as pt_visualizer"
   ]
  },
  {
   "cell_type": "code",
   "execution_count": null,
   "metadata": {
    "id": "dkdVcIuA1n3C"
   },
   "outputs": [],
   "source": [
    "# Generate process tree using IMDF\n",
    "tree = inductive_miner.apply(log1)"
   ]
  },
  {
   "cell_type": "code",
   "execution_count": null,
   "metadata": {
    "colab": {
     "base_uri": "https://localhost:8080/",
     "height": 344
    },
    "executionInfo": {
     "elapsed": 1029,
     "status": "ok",
     "timestamp": 1705901531190,
     "user": {
      "displayName": "Jenny",
      "userId": "12372960833436205383"
     },
     "user_tz": -60
    },
    "id": "fIrFq9oP1yid",
    "outputId": "338bee7d-838c-4688-cd53-915edc75345f"
   },
   "outputs": [],
   "source": [
    "# Output of the tree in the Jupyter Notebook\n",
    "gviz = pt_visualizer.apply(tree)\n",
    "pt_visualizer.view(gviz)\n",
    "\n",
    "# Export to file\n",
    "parameters = {dfg_visualization.Variants.PERFORMANCE.value.Parameters.FORMAT: \"svg\"}\n",
    "gviz = pt_visualizer.apply(tree, parameters=parameters)\n",
    "pt_visualizer.save(gviz, \"3_imdf_tree.svg\")\n",
    "\n",
    "# Warnings can be ignored"
   ]
  },
  {
   "cell_type": "code",
   "execution_count": null,
   "metadata": {
    "colab": {
     "base_uri": "https://localhost:8080/",
     "height": 387
    },
    "executionInfo": {
     "elapsed": 1354,
     "status": "ok",
     "timestamp": 1705838677297,
     "user": {
      "displayName": "Jenny",
      "userId": "12372960833436205383"
     },
     "user_tz": -60
    },
    "id": "7e5PK12q2J8b",
    "outputId": "0b7384be-bb30-4475-d006-a8c63b48bd6f"
   },
   "outputs": [],
   "source": [
    "# Output only relevant/execute for colab\n",
    "from IPython.display import SVG, display\n",
    "display(SVG('3_imdf_tree.svg'))"
   ]
  },
  {
   "cell_type": "code",
   "execution_count": null,
   "metadata": {
    "executionInfo": {
     "elapsed": 598,
     "status": "ok",
     "timestamp": 1705908196782,
     "user": {
      "displayName": "Jenny",
      "userId": "12372960833436205383"
     },
     "user_tz": -60
    },
    "id": "e832b_4Y2fkJ"
   },
   "outputs": [],
   "source": [
    "# Import of IMDF libraries for Petrinet\n",
    "import os\n",
    "import pm4py\n",
    "from pm4py.algo.discovery.inductive import algorithm as inductive_miner\n",
    "from pm4py.visualization.petri_net import visualizer as pn_visualizer\n"
   ]
  },
  {
   "cell_type": "code",
   "execution_count": null,
   "metadata": {
    "colab": {
     "base_uri": "https://localhost:8080/",
     "height": 186
    },
    "executionInfo": {
     "elapsed": 549,
     "status": "ok",
     "timestamp": 1705908274865,
     "user": {
      "displayName": "Jenny",
      "userId": "12372960833436205383"
     },
     "user_tz": -60
    },
    "id": "dnnkVmk-20tA",
    "outputId": "b4bc82b6-bd22-4c41-c68c-a6340a45ea3e"
   },
   "outputs": [],
   "source": [
    "# Generate Net\n",
    "net, initial_marking, final_marking = pm4py.discover_petri_net_inductive(log1)\n",
    "\n",
    "# Output of the net in Jupyter Notebook\n",
    "pm4py.view_petri_net(net, initial_marking, final_marking)\n",
    "\n",
    "# Export as  file\n",
    "pm4py.write_pnml(net, initial_marking, final_marking, \"4_imdf_petri.pnml\")"
   ]
  },
  {
   "cell_type": "markdown",
   "metadata": {
    "id": "KHU1Zm-EkWqA"
   },
   "source": [
    "## 3. Additional Exercises"
   ]
  },
  {
   "cell_type": "markdown",
   "metadata": {
    "id": "eDS8LLEgA8Gi"
   },
   "source": [
    "The following tasks help to deepen and apply the knowledge.\n",
    "You can use the documentation to help you to solve the tasks: https://pm4py.fit.fraunhofer.de/documentation"
   ]
  },
  {
   "cell_type": "markdown",
   "metadata": {
    "id": "lZjq7DLIBfa4"
   },
   "source": [
    "### 3.1 Generate a BPMN diagram for the log1 event.\n"
   ]
  },
  {
   "cell_type": "markdown",
   "metadata": {
    "id": "VpctW8JY0Vfr"
   },
   "source": [
    "In this task, we use the data set that we already analysed in the process discovery section (log1).\n",
    "\n",
    "*Note: the event log should be converted directly from a process tree into a BPMN (Consider 2.3 IMDF)*."
   ]
  },
  {
   "cell_type": "code",
   "execution_count": null,
   "metadata": {
    "id": "kI7XehGDzWkS"
   },
   "outputs": [],
   "source": [
    "# Generate process tree using IMDF\n"
   ]
  },
  {
   "cell_type": "code",
   "execution_count": null,
   "metadata": {
    "id": "5tIuodob16bi"
   },
   "outputs": [],
   "source": [
    "# Generate bpmn graph\n",
    "bpmn_graph = pm4py.convert_to_bpmn(____)"
   ]
  },
  {
   "cell_type": "code",
   "execution_count": null,
   "metadata": {
    "id": "qJwPHHHY2dJG"
   },
   "outputs": [],
   "source": [
    "# visualise bpmn graph\n",
    "pm4py.view_bpmn(____)"
   ]
  },
  {
   "cell_type": "markdown",
   "metadata": {
    "id": "RUn8go_0BZSH"
   },
   "source": [
    "### 3.2 Identification and visualisation of the process flow for a specific case"
   ]
  },
  {
   "cell_type": "markdown",
   "metadata": {
    "id": "GMIkl-pUHAOq"
   },
   "source": [
    "In the following, we would like to extract the process for one case (case_id = 4) from our created Petrinet for log1:"
   ]
  },
  {
   "cell_type": "markdown",
   "metadata": {
    "id": "spYAKq783_KM"
   },
   "source": [
    "In this scenario, you can use a dataframe to filter the desired case."
   ]
  },
  {
   "cell_type": "code",
   "execution_count": null,
   "metadata": {
    "id": "WGLNHG0vkYdF"
   },
   "outputs": [],
   "source": [
    "import pandas as pd\n",
    "import pm4py\n",
    "from pm4py.objects.conversion.log import converter as log_converter\n",
    "\n",
    "# Convert the process log (log1) into a Pandas DataFrame.\n",
    "df = pm4py.convert_to_dataframe(log1)\n",
    "\n",
    "# Filter the process of case 4 of the created dataframe\n",
    "df_case = df[df['case:concept:name'] == '4']\n",
    "\n",
    "# Convert the DataFrame (df_case) into a process log (case_log).\n",
    "case_log = log_converter.apply(df_case)"
   ]
  },
  {
   "cell_type": "markdown",
   "metadata": {
    "id": "_4M57Qq546GM"
   },
   "source": [
    "#### 3.2.1 Create Petri net for the filtered case."
   ]
  },
  {
   "cell_type": "code",
   "execution_count": null,
   "metadata": {
    "id": "TPo9vY_B3KOW"
   },
   "outputs": [],
   "source": [
    "# Create a Petri net for the process of case 4\n",
    "case_net, case_initial_marking, case_final_marking = pm4py.discover_petri_net_inductive(____)"
   ]
  },
  {
   "cell_type": "code",
   "execution_count": null,
   "metadata": {
    "id": "jPryEaJ73NH7"
   },
   "outputs": [],
   "source": [
    "from pm4py.visualization.petri_net import visualizer as pn_visualizer\n",
    "\n",
    "# Visualise the Petri net\n",
    "gviz = pn_visualizer.apply(____________________________)\n",
    "pn_visualizer.view(____)"
   ]
  },
  {
   "cell_type": "markdown",
   "metadata": {
    "id": "h-Wq0ViE68tu"
   },
   "source": [
    "#### 3.2.2 Create a bpmn for the extracted case"
   ]
  },
  {
   "cell_type": "code",
   "execution_count": null,
   "metadata": {
    "id": "E1NHLTCEKifJ"
   },
   "outputs": [],
   "source": [
    "# Hint: you can also use the df_case dataframe to generate the bpmn model\n"
   ]
  },
  {
   "cell_type": "markdown",
   "metadata": {
    "id": "MGjphhZUq3Lb"
   },
   "source": [
    "### 3.3 Directly-follows diagram and heuristic network"
   ]
  },
  {
   "cell_type": "markdown",
   "metadata": {
    "id": "zkgTqCWS7pbR"
   },
   "source": [
    "For this task, download the **receipt.xes** file from Wuecampus."
   ]
  },
  {
   "cell_type": "code",
   "execution_count": null,
   "metadata": {
    "colab": {
     "base_uri": "https://localhost:8080/"
    },
    "executionInfo": {
     "elapsed": 2681,
     "status": "ok",
     "timestamp": 1705907355187,
     "user": {
      "displayName": "Jenny",
      "userId": "12372960833436205383"
     },
     "user_tz": -60
    },
    "id": "JzGW88d1rGm1",
    "outputId": "76a02162-062d-4a8e-e9a3-405f02d0ed8a"
   },
   "outputs": [],
   "source": [
    "from google.colab import drive\n",
    "drive.mount('/content/drive/')"
   ]
  },
  {
   "cell_type": "code",
   "execution_count": null,
   "metadata": {
    "colab": {
     "base_uri": "https://localhost:8080/",
     "height": 49,
     "referenced_widgets": [
      "bfcd1b925949474592b97ae42ff572c5",
      "689757da7ffa423fabe1b30affffcb5b",
      "2d5ea5e794984aa6837ce72b376abc37",
      "3b0fa870d675419c973d854e50111dda",
      "ef922ff4dd244c13acb49bd0135ec224",
      "b8ec86ad4f0e4c87a6d554c1fb69f2d0",
      "da81d8fbd00f4c619562185364f3294d",
      "e7997bcc7fe041ec9fade5af399df9e3",
      "664f9e9b538348f88e5c7c5486303266",
      "c821fde3f44a42bd9b3ae168bce87127",
      "a00bc75519b24b50a1ace9f2b5cd108f"
     ]
    },
    "executionInfo": {
     "elapsed": 1953,
     "status": "ok",
     "timestamp": 1705907360202,
     "user": {
      "displayName": "Jenny",
      "userId": "12372960833436205383"
     },
     "user_tz": -60
    },
    "id": "WQQOpeTkrP8z",
    "outputId": "d29b14d8-3f34-49b8-dac0-d545b5991429"
   },
   "outputs": [],
   "source": [
    "\n",
    "file_path = '/content/drive/MyDrive/EX_11_PM/receipt.xes'\n",
    "\n",
    "# Load the XES file into your Colab\n",
    "import pm4py\n",
    "log2 = pm4py.read_xes(file_path, return_legacy_log_object=True)\n"
   ]
  },
  {
   "cell_type": "markdown",
   "metadata": {
    "id": "6RUaGDFR8aF9"
   },
   "source": [
    "#### 3.3.1 create a Directly-follows diagram for the loaded log"
   ]
  },
  {
   "cell_type": "code",
   "execution_count": null,
   "metadata": {
    "id": "XK2W9J9Zrddi"
   },
   "outputs": [],
   "source": [
    "# Import of required libraries\n",
    "from pm4py.algo.discovery.dfg import algorithm as dfg_discovery\n",
    "from pm4py.visualization.dfg import visualizer as dfg_visualization\n",
    "\n",
    "#Build Flow Graph\n",
    "\n",
    "\n",
    "#Export as PNG\n",
    "\n",
    "\n",
    "# Visualisation in Jupyter Notebook\n",
    "\n"
   ]
  },
  {
   "cell_type": "markdown",
   "metadata": {
    "id": "Ez9OQipKvE9Q"
   },
   "source": [
    "#### 3.3.2 How many events are in the log?"
   ]
  },
  {
   "cell_type": "code",
   "execution_count": null,
   "metadata": {
    "id": "VdbNQ4amvM3b"
   },
   "outputs": [],
   "source": []
  },
  {
   "cell_type": "markdown",
   "metadata": {
    "id": "piy2jLK-8w5R"
   },
   "source": [
    "#### 3.3.3 Generate a heuristic network for the log and visualize it."
   ]
  },
  {
   "cell_type": "code",
   "execution_count": null,
   "metadata": {
    "id": "dnY9OfuKrzxK"
   },
   "outputs": [],
   "source": [
    "# Import of required libraries\n",
    "from pm4py.algo.discovery.heuristics import algorithm as heuristics_miner\n",
    "from pm4py.visualization.heuristics_net import visualizer as hn_visualizer\n",
    "\n",
    "# Generate heuristic network\n"
   ]
  },
  {
   "cell_type": "code",
   "execution_count": null,
   "metadata": {
    "id": "6zCjfrmtr3bQ"
   },
   "outputs": [],
   "source": [
    "# Export as PNG\n",
    "\n",
    "\n",
    "# Visualisation in Jupyter Notebook\n"
   ]
  },
  {
   "cell_type": "markdown",
   "metadata": {
    "id": "zFdaLkgN3PxF"
   },
   "source": [
    "## 4. Conclusion"
   ]
  },
  {
   "cell_type": "markdown",
   "metadata": {
    "id": "_V_P6lY53hN3"
   },
   "source": [
    "With the examples given, the processing of event logs in the field of process mining, common forms of representation and widespread process discovery algorithms were demonstrated. If you are interested in the topic, you can of course try it out yourself, you will find everything you need via the sources. Have fun!"
   ]
  },
  {
   "cell_type": "markdown",
   "metadata": {
    "id": "5CGm5Vh83pOG"
   },
   "source": [
    "##  Sources\n",
    "1. https://pm4py.fit.fraunhofer.de/documentation\n",
    "2. https://data.4tu.nl/\n",
    "3. http://www.processmining.org/_media/blogs/pub2015/bpmds_directly-follows_mining.pdf\n",
    "4. https://pdfs.semanticscholar.org/1cc3/d62e27365b8d7ed6ce93b41c193d0559d086.pdf"
   ]
  }
 ],
 "metadata": {
  "colab": {
   "authorship_tag": "ABX9TyOBQazD/Dtm1JXxW+Azv/wM",
   "provenance": []
  },
  "kernelspec": {
   "display_name": "Python 3 (ipykernel)",
   "language": "python",
   "name": "python3"
  },
  "language_info": {
   "codemirror_mode": {
    "name": "ipython",
    "version": 3
   },
   "file_extension": ".py",
   "mimetype": "text/x-python",
   "name": "python",
   "nbconvert_exporter": "python",
   "pygments_lexer": "ipython3",
   "version": "3.9.6"
  },
  "widgets": {
   "application/vnd.jupyter.widget-state+json": {
    "01651710823149ca996a19fbe46ffcf3": {
     "model_module": "@jupyter-widgets/base",
     "model_module_version": "1.2.0",
     "model_name": "LayoutModel",
     "state": {
      "_model_module": "@jupyter-widgets/base",
      "_model_module_version": "1.2.0",
      "_model_name": "LayoutModel",
      "_view_count": null,
      "_view_module": "@jupyter-widgets/base",
      "_view_module_version": "1.2.0",
      "_view_name": "LayoutView",
      "align_content": null,
      "align_items": null,
      "align_self": null,
      "border": null,
      "bottom": null,
      "display": null,
      "flex": null,
      "flex_flow": null,
      "grid_area": null,
      "grid_auto_columns": null,
      "grid_auto_flow": null,
      "grid_auto_rows": null,
      "grid_column": null,
      "grid_gap": null,
      "grid_row": null,
      "grid_template_areas": null,
      "grid_template_columns": null,
      "grid_template_rows": null,
      "height": null,
      "justify_content": null,
      "justify_items": null,
      "left": null,
      "margin": null,
      "max_height": null,
      "max_width": null,
      "min_height": null,
      "min_width": null,
      "object_fit": null,
      "object_position": null,
      "order": null,
      "overflow": null,
      "overflow_x": null,
      "overflow_y": null,
      "padding": null,
      "right": null,
      "top": null,
      "visibility": null,
      "width": null
     }
    },
    "0c63c5db4ac541658f886f6906711cc1": {
     "model_module": "@jupyter-widgets/base",
     "model_module_version": "1.2.0",
     "model_name": "LayoutModel",
     "state": {
      "_model_module": "@jupyter-widgets/base",
      "_model_module_version": "1.2.0",
      "_model_name": "LayoutModel",
      "_view_count": null,
      "_view_module": "@jupyter-widgets/base",
      "_view_module_version": "1.2.0",
      "_view_name": "LayoutView",
      "align_content": null,
      "align_items": null,
      "align_self": null,
      "border": null,
      "bottom": null,
      "display": null,
      "flex": null,
      "flex_flow": null,
      "grid_area": null,
      "grid_auto_columns": null,
      "grid_auto_flow": null,
      "grid_auto_rows": null,
      "grid_column": null,
      "grid_gap": null,
      "grid_row": null,
      "grid_template_areas": null,
      "grid_template_columns": null,
      "grid_template_rows": null,
      "height": null,
      "justify_content": null,
      "justify_items": null,
      "left": null,
      "margin": null,
      "max_height": null,
      "max_width": null,
      "min_height": null,
      "min_width": null,
      "object_fit": null,
      "object_position": null,
      "order": null,
      "overflow": null,
      "overflow_x": null,
      "overflow_y": null,
      "padding": null,
      "right": null,
      "top": null,
      "visibility": null,
      "width": null
     }
    },
    "11f5dcc2e3f64d7f843e8c25153334f4": {
     "model_module": "@jupyter-widgets/base",
     "model_module_version": "1.2.0",
     "model_name": "LayoutModel",
     "state": {
      "_model_module": "@jupyter-widgets/base",
      "_model_module_version": "1.2.0",
      "_model_name": "LayoutModel",
      "_view_count": null,
      "_view_module": "@jupyter-widgets/base",
      "_view_module_version": "1.2.0",
      "_view_name": "LayoutView",
      "align_content": null,
      "align_items": null,
      "align_self": null,
      "border": null,
      "bottom": null,
      "display": null,
      "flex": null,
      "flex_flow": null,
      "grid_area": null,
      "grid_auto_columns": null,
      "grid_auto_flow": null,
      "grid_auto_rows": null,
      "grid_column": null,
      "grid_gap": null,
      "grid_row": null,
      "grid_template_areas": null,
      "grid_template_columns": null,
      "grid_template_rows": null,
      "height": null,
      "justify_content": null,
      "justify_items": null,
      "left": null,
      "margin": null,
      "max_height": null,
      "max_width": null,
      "min_height": null,
      "min_width": null,
      "object_fit": null,
      "object_position": null,
      "order": null,
      "overflow": null,
      "overflow_x": null,
      "overflow_y": null,
      "padding": null,
      "right": null,
      "top": null,
      "visibility": null,
      "width": null
     }
    },
    "16075178653f4b5f968cca228ff1da45": {
     "model_module": "@jupyter-widgets/controls",
     "model_module_version": "1.5.0",
     "model_name": "HTMLModel",
     "state": {
      "_dom_classes": [],
      "_model_module": "@jupyter-widgets/controls",
      "_model_module_version": "1.5.0",
      "_model_name": "HTMLModel",
      "_view_count": null,
      "_view_module": "@jupyter-widgets/controls",
      "_view_module_version": "1.5.0",
      "_view_name": "HTMLView",
      "description": "",
      "description_tooltip": null,
      "layout": "IPY_MODEL_494480911ff840a5a0e4df14bc5a04a5",
      "placeholder": "​",
      "style": "IPY_MODEL_642921bad7d049f397ec9aa04207065c",
      "value": "parsing log, completed traces :: 100%"
     }
    },
    "29985edc59ce4e2b819fac7cfc920e94": {
     "model_module": "@jupyter-widgets/controls",
     "model_module_version": "1.5.0",
     "model_name": "HBoxModel",
     "state": {
      "_dom_classes": [],
      "_model_module": "@jupyter-widgets/controls",
      "_model_module_version": "1.5.0",
      "_model_name": "HBoxModel",
      "_view_count": null,
      "_view_module": "@jupyter-widgets/controls",
      "_view_module_version": "1.5.0",
      "_view_name": "HBoxView",
      "box_style": "",
      "children": [
       "IPY_MODEL_16075178653f4b5f968cca228ff1da45",
       "IPY_MODEL_99065464d0e746ad9009d769d99d44ec",
       "IPY_MODEL_7030aff974a94a288581f79c1bd14141"
      ],
      "layout": "IPY_MODEL_01651710823149ca996a19fbe46ffcf3"
     }
    },
    "2cbce969b11e4e23aae20236f19ed502": {
     "model_module": "@jupyter-widgets/controls",
     "model_module_version": "1.5.0",
     "model_name": "DescriptionStyleModel",
     "state": {
      "_model_module": "@jupyter-widgets/controls",
      "_model_module_version": "1.5.0",
      "_model_name": "DescriptionStyleModel",
      "_view_count": null,
      "_view_module": "@jupyter-widgets/base",
      "_view_module_version": "1.2.0",
      "_view_name": "StyleView",
      "description_width": ""
     }
    },
    "2d5ea5e794984aa6837ce72b376abc37": {
     "model_module": "@jupyter-widgets/controls",
     "model_module_version": "1.5.0",
     "model_name": "FloatProgressModel",
     "state": {
      "_dom_classes": [],
      "_model_module": "@jupyter-widgets/controls",
      "_model_module_version": "1.5.0",
      "_model_name": "FloatProgressModel",
      "_view_count": null,
      "_view_module": "@jupyter-widgets/controls",
      "_view_module_version": "1.5.0",
      "_view_name": "ProgressView",
      "bar_style": "success",
      "description": "",
      "description_tooltip": null,
      "layout": "IPY_MODEL_e7997bcc7fe041ec9fade5af399df9e3",
      "max": 1434,
      "min": 0,
      "orientation": "horizontal",
      "style": "IPY_MODEL_664f9e9b538348f88e5c7c5486303266",
      "value": 1434
     }
    },
    "31a5361b6687428db1c1bd4246a0a355": {
     "model_module": "@jupyter-widgets/controls",
     "model_module_version": "1.5.0",
     "model_name": "DescriptionStyleModel",
     "state": {
      "_model_module": "@jupyter-widgets/controls",
      "_model_module_version": "1.5.0",
      "_model_name": "DescriptionStyleModel",
      "_view_count": null,
      "_view_module": "@jupyter-widgets/base",
      "_view_module_version": "1.2.0",
      "_view_name": "StyleView",
      "description_width": ""
     }
    },
    "3b0fa870d675419c973d854e50111dda": {
     "model_module": "@jupyter-widgets/controls",
     "model_module_version": "1.5.0",
     "model_name": "HTMLModel",
     "state": {
      "_dom_classes": [],
      "_model_module": "@jupyter-widgets/controls",
      "_model_module_version": "1.5.0",
      "_model_name": "HTMLModel",
      "_view_count": null,
      "_view_module": "@jupyter-widgets/controls",
      "_view_module_version": "1.5.0",
      "_view_name": "HTMLView",
      "description": "",
      "description_tooltip": null,
      "layout": "IPY_MODEL_c821fde3f44a42bd9b3ae168bce87127",
      "placeholder": "​",
      "style": "IPY_MODEL_a00bc75519b24b50a1ace9f2b5cd108f",
      "value": " 1434/1434 [00:00&lt;00:00, 1602.79it/s]"
     }
    },
    "3e46468590ba43deb41bb61b53f46111": {
     "model_module": "@jupyter-widgets/controls",
     "model_module_version": "1.5.0",
     "model_name": "DescriptionStyleModel",
     "state": {
      "_model_module": "@jupyter-widgets/controls",
      "_model_module_version": "1.5.0",
      "_model_name": "DescriptionStyleModel",
      "_view_count": null,
      "_view_module": "@jupyter-widgets/base",
      "_view_module_version": "1.2.0",
      "_view_name": "StyleView",
      "description_width": ""
     }
    },
    "40e44b846d8f4e9688c9dea2d8dc6a36": {
     "model_module": "@jupyter-widgets/controls",
     "model_module_version": "1.5.0",
     "model_name": "FloatProgressModel",
     "state": {
      "_dom_classes": [],
      "_model_module": "@jupyter-widgets/controls",
      "_model_module_version": "1.5.0",
      "_model_name": "FloatProgressModel",
      "_view_count": null,
      "_view_module": "@jupyter-widgets/controls",
      "_view_module_version": "1.5.0",
      "_view_name": "ProgressView",
      "bar_style": "success",
      "description": "",
      "description_tooltip": null,
      "layout": "IPY_MODEL_fe970ccbc2bf47c5aed6ae2f0aa21cb4",
      "max": 1143,
      "min": 0,
      "orientation": "horizontal",
      "style": "IPY_MODEL_e98727718f074cc4ae8c236470fc6c9d",
      "value": 1143
     }
    },
    "494480911ff840a5a0e4df14bc5a04a5": {
     "model_module": "@jupyter-widgets/base",
     "model_module_version": "1.2.0",
     "model_name": "LayoutModel",
     "state": {
      "_model_module": "@jupyter-widgets/base",
      "_model_module_version": "1.2.0",
      "_model_name": "LayoutModel",
      "_view_count": null,
      "_view_module": "@jupyter-widgets/base",
      "_view_module_version": "1.2.0",
      "_view_name": "LayoutView",
      "align_content": null,
      "align_items": null,
      "align_self": null,
      "border": null,
      "bottom": null,
      "display": null,
      "flex": null,
      "flex_flow": null,
      "grid_area": null,
      "grid_auto_columns": null,
      "grid_auto_flow": null,
      "grid_auto_rows": null,
      "grid_column": null,
      "grid_gap": null,
      "grid_row": null,
      "grid_template_areas": null,
      "grid_template_columns": null,
      "grid_template_rows": null,
      "height": null,
      "justify_content": null,
      "justify_items": null,
      "left": null,
      "margin": null,
      "max_height": null,
      "max_width": null,
      "min_height": null,
      "min_width": null,
      "object_fit": null,
      "object_position": null,
      "order": null,
      "overflow": null,
      "overflow_x": null,
      "overflow_y": null,
      "padding": null,
      "right": null,
      "top": null,
      "visibility": null,
      "width": null
     }
    },
    "547483a75241451cb2522fb4bf72243b": {
     "model_module": "@jupyter-widgets/controls",
     "model_module_version": "1.5.0",
     "model_name": "HTMLModel",
     "state": {
      "_dom_classes": [],
      "_model_module": "@jupyter-widgets/controls",
      "_model_module_version": "1.5.0",
      "_model_name": "HTMLModel",
      "_view_count": null,
      "_view_module": "@jupyter-widgets/controls",
      "_view_module_version": "1.5.0",
      "_view_name": "HTMLView",
      "description": "",
      "description_tooltip": null,
      "layout": "IPY_MODEL_0c63c5db4ac541658f886f6906711cc1",
      "placeholder": "​",
      "style": "IPY_MODEL_31a5361b6687428db1c1bd4246a0a355",
      "value": "parsing log, completed traces :: 100%"
     }
    },
    "570654d52d81457e8b8a18955e17ceaf": {
     "model_module": "@jupyter-widgets/controls",
     "model_module_version": "1.5.0",
     "model_name": "HTMLModel",
     "state": {
      "_dom_classes": [],
      "_model_module": "@jupyter-widgets/controls",
      "_model_module_version": "1.5.0",
      "_model_name": "HTMLModel",
      "_view_count": null,
      "_view_module": "@jupyter-widgets/controls",
      "_view_module_version": "1.5.0",
      "_view_name": "HTMLView",
      "description": "",
      "description_tooltip": null,
      "layout": "IPY_MODEL_11f5dcc2e3f64d7f843e8c25153334f4",
      "placeholder": "​",
      "style": "IPY_MODEL_2cbce969b11e4e23aae20236f19ed502",
      "value": " 1143/1143 [00:17&lt;00:00, 75.25it/s]"
     }
    },
    "642921bad7d049f397ec9aa04207065c": {
     "model_module": "@jupyter-widgets/controls",
     "model_module_version": "1.5.0",
     "model_name": "DescriptionStyleModel",
     "state": {
      "_model_module": "@jupyter-widgets/controls",
      "_model_module_version": "1.5.0",
      "_model_name": "DescriptionStyleModel",
      "_view_count": null,
      "_view_module": "@jupyter-widgets/base",
      "_view_module_version": "1.2.0",
      "_view_name": "StyleView",
      "description_width": ""
     }
    },
    "664f9e9b538348f88e5c7c5486303266": {
     "model_module": "@jupyter-widgets/controls",
     "model_module_version": "1.5.0",
     "model_name": "ProgressStyleModel",
     "state": {
      "_model_module": "@jupyter-widgets/controls",
      "_model_module_version": "1.5.0",
      "_model_name": "ProgressStyleModel",
      "_view_count": null,
      "_view_module": "@jupyter-widgets/base",
      "_view_module_version": "1.2.0",
      "_view_name": "StyleView",
      "bar_color": null,
      "description_width": ""
     }
    },
    "689757da7ffa423fabe1b30affffcb5b": {
     "model_module": "@jupyter-widgets/controls",
     "model_module_version": "1.5.0",
     "model_name": "HTMLModel",
     "state": {
      "_dom_classes": [],
      "_model_module": "@jupyter-widgets/controls",
      "_model_module_version": "1.5.0",
      "_model_name": "HTMLModel",
      "_view_count": null,
      "_view_module": "@jupyter-widgets/controls",
      "_view_module_version": "1.5.0",
      "_view_name": "HTMLView",
      "description": "",
      "description_tooltip": null,
      "layout": "IPY_MODEL_b8ec86ad4f0e4c87a6d554c1fb69f2d0",
      "placeholder": "​",
      "style": "IPY_MODEL_da81d8fbd00f4c619562185364f3294d",
      "value": "parsing log, completed traces :: 100%"
     }
    },
    "7030aff974a94a288581f79c1bd14141": {
     "model_module": "@jupyter-widgets/controls",
     "model_module_version": "1.5.0",
     "model_name": "HTMLModel",
     "state": {
      "_dom_classes": [],
      "_model_module": "@jupyter-widgets/controls",
      "_model_module_version": "1.5.0",
      "_model_name": "HTMLModel",
      "_view_count": null,
      "_view_module": "@jupyter-widgets/controls",
      "_view_module_version": "1.5.0",
      "_view_name": "HTMLView",
      "description": "",
      "description_tooltip": null,
      "layout": "IPY_MODEL_b9bc7d9b569d4a028e44f9f64f2e2b7f",
      "placeholder": "​",
      "style": "IPY_MODEL_3e46468590ba43deb41bb61b53f46111",
      "value": " 6/6 [00:00&lt;00:00, 183.66it/s]"
     }
    },
    "7911fbe2ff344a17a1533ac3446bfd8b": {
     "model_module": "@jupyter-widgets/controls",
     "model_module_version": "1.5.0",
     "model_name": "ProgressStyleModel",
     "state": {
      "_model_module": "@jupyter-widgets/controls",
      "_model_module_version": "1.5.0",
      "_model_name": "ProgressStyleModel",
      "_view_count": null,
      "_view_module": "@jupyter-widgets/base",
      "_view_module_version": "1.2.0",
      "_view_name": "StyleView",
      "bar_color": null,
      "description_width": ""
     }
    },
    "99065464d0e746ad9009d769d99d44ec": {
     "model_module": "@jupyter-widgets/controls",
     "model_module_version": "1.5.0",
     "model_name": "FloatProgressModel",
     "state": {
      "_dom_classes": [],
      "_model_module": "@jupyter-widgets/controls",
      "_model_module_version": "1.5.0",
      "_model_name": "FloatProgressModel",
      "_view_count": null,
      "_view_module": "@jupyter-widgets/controls",
      "_view_module_version": "1.5.0",
      "_view_name": "ProgressView",
      "bar_style": "success",
      "description": "",
      "description_tooltip": null,
      "layout": "IPY_MODEL_ba11c5917aa544558b958440aa592922",
      "max": 6,
      "min": 0,
      "orientation": "horizontal",
      "style": "IPY_MODEL_7911fbe2ff344a17a1533ac3446bfd8b",
      "value": 6
     }
    },
    "a00bc75519b24b50a1ace9f2b5cd108f": {
     "model_module": "@jupyter-widgets/controls",
     "model_module_version": "1.5.0",
     "model_name": "DescriptionStyleModel",
     "state": {
      "_model_module": "@jupyter-widgets/controls",
      "_model_module_version": "1.5.0",
      "_model_name": "DescriptionStyleModel",
      "_view_count": null,
      "_view_module": "@jupyter-widgets/base",
      "_view_module_version": "1.2.0",
      "_view_name": "StyleView",
      "description_width": ""
     }
    },
    "b8ec86ad4f0e4c87a6d554c1fb69f2d0": {
     "model_module": "@jupyter-widgets/base",
     "model_module_version": "1.2.0",
     "model_name": "LayoutModel",
     "state": {
      "_model_module": "@jupyter-widgets/base",
      "_model_module_version": "1.2.0",
      "_model_name": "LayoutModel",
      "_view_count": null,
      "_view_module": "@jupyter-widgets/base",
      "_view_module_version": "1.2.0",
      "_view_name": "LayoutView",
      "align_content": null,
      "align_items": null,
      "align_self": null,
      "border": null,
      "bottom": null,
      "display": null,
      "flex": null,
      "flex_flow": null,
      "grid_area": null,
      "grid_auto_columns": null,
      "grid_auto_flow": null,
      "grid_auto_rows": null,
      "grid_column": null,
      "grid_gap": null,
      "grid_row": null,
      "grid_template_areas": null,
      "grid_template_columns": null,
      "grid_template_rows": null,
      "height": null,
      "justify_content": null,
      "justify_items": null,
      "left": null,
      "margin": null,
      "max_height": null,
      "max_width": null,
      "min_height": null,
      "min_width": null,
      "object_fit": null,
      "object_position": null,
      "order": null,
      "overflow": null,
      "overflow_x": null,
      "overflow_y": null,
      "padding": null,
      "right": null,
      "top": null,
      "visibility": null,
      "width": null
     }
    },
    "b97798a0aee5476cbd39d4703ebe38eb": {
     "model_module": "@jupyter-widgets/controls",
     "model_module_version": "1.5.0",
     "model_name": "HBoxModel",
     "state": {
      "_dom_classes": [],
      "_model_module": "@jupyter-widgets/controls",
      "_model_module_version": "1.5.0",
      "_model_name": "HBoxModel",
      "_view_count": null,
      "_view_module": "@jupyter-widgets/controls",
      "_view_module_version": "1.5.0",
      "_view_name": "HBoxView",
      "box_style": "",
      "children": [
       "IPY_MODEL_547483a75241451cb2522fb4bf72243b",
       "IPY_MODEL_40e44b846d8f4e9688c9dea2d8dc6a36",
       "IPY_MODEL_570654d52d81457e8b8a18955e17ceaf"
      ],
      "layout": "IPY_MODEL_ca73b85843a941559f832bfc4d697ed3"
     }
    },
    "b9bc7d9b569d4a028e44f9f64f2e2b7f": {
     "model_module": "@jupyter-widgets/base",
     "model_module_version": "1.2.0",
     "model_name": "LayoutModel",
     "state": {
      "_model_module": "@jupyter-widgets/base",
      "_model_module_version": "1.2.0",
      "_model_name": "LayoutModel",
      "_view_count": null,
      "_view_module": "@jupyter-widgets/base",
      "_view_module_version": "1.2.0",
      "_view_name": "LayoutView",
      "align_content": null,
      "align_items": null,
      "align_self": null,
      "border": null,
      "bottom": null,
      "display": null,
      "flex": null,
      "flex_flow": null,
      "grid_area": null,
      "grid_auto_columns": null,
      "grid_auto_flow": null,
      "grid_auto_rows": null,
      "grid_column": null,
      "grid_gap": null,
      "grid_row": null,
      "grid_template_areas": null,
      "grid_template_columns": null,
      "grid_template_rows": null,
      "height": null,
      "justify_content": null,
      "justify_items": null,
      "left": null,
      "margin": null,
      "max_height": null,
      "max_width": null,
      "min_height": null,
      "min_width": null,
      "object_fit": null,
      "object_position": null,
      "order": null,
      "overflow": null,
      "overflow_x": null,
      "overflow_y": null,
      "padding": null,
      "right": null,
      "top": null,
      "visibility": null,
      "width": null
     }
    },
    "ba11c5917aa544558b958440aa592922": {
     "model_module": "@jupyter-widgets/base",
     "model_module_version": "1.2.0",
     "model_name": "LayoutModel",
     "state": {
      "_model_module": "@jupyter-widgets/base",
      "_model_module_version": "1.2.0",
      "_model_name": "LayoutModel",
      "_view_count": null,
      "_view_module": "@jupyter-widgets/base",
      "_view_module_version": "1.2.0",
      "_view_name": "LayoutView",
      "align_content": null,
      "align_items": null,
      "align_self": null,
      "border": null,
      "bottom": null,
      "display": null,
      "flex": null,
      "flex_flow": null,
      "grid_area": null,
      "grid_auto_columns": null,
      "grid_auto_flow": null,
      "grid_auto_rows": null,
      "grid_column": null,
      "grid_gap": null,
      "grid_row": null,
      "grid_template_areas": null,
      "grid_template_columns": null,
      "grid_template_rows": null,
      "height": null,
      "justify_content": null,
      "justify_items": null,
      "left": null,
      "margin": null,
      "max_height": null,
      "max_width": null,
      "min_height": null,
      "min_width": null,
      "object_fit": null,
      "object_position": null,
      "order": null,
      "overflow": null,
      "overflow_x": null,
      "overflow_y": null,
      "padding": null,
      "right": null,
      "top": null,
      "visibility": null,
      "width": null
     }
    },
    "bfcd1b925949474592b97ae42ff572c5": {
     "model_module": "@jupyter-widgets/controls",
     "model_module_version": "1.5.0",
     "model_name": "HBoxModel",
     "state": {
      "_dom_classes": [],
      "_model_module": "@jupyter-widgets/controls",
      "_model_module_version": "1.5.0",
      "_model_name": "HBoxModel",
      "_view_count": null,
      "_view_module": "@jupyter-widgets/controls",
      "_view_module_version": "1.5.0",
      "_view_name": "HBoxView",
      "box_style": "",
      "children": [
       "IPY_MODEL_689757da7ffa423fabe1b30affffcb5b",
       "IPY_MODEL_2d5ea5e794984aa6837ce72b376abc37",
       "IPY_MODEL_3b0fa870d675419c973d854e50111dda"
      ],
      "layout": "IPY_MODEL_ef922ff4dd244c13acb49bd0135ec224"
     }
    },
    "c821fde3f44a42bd9b3ae168bce87127": {
     "model_module": "@jupyter-widgets/base",
     "model_module_version": "1.2.0",
     "model_name": "LayoutModel",
     "state": {
      "_model_module": "@jupyter-widgets/base",
      "_model_module_version": "1.2.0",
      "_model_name": "LayoutModel",
      "_view_count": null,
      "_view_module": "@jupyter-widgets/base",
      "_view_module_version": "1.2.0",
      "_view_name": "LayoutView",
      "align_content": null,
      "align_items": null,
      "align_self": null,
      "border": null,
      "bottom": null,
      "display": null,
      "flex": null,
      "flex_flow": null,
      "grid_area": null,
      "grid_auto_columns": null,
      "grid_auto_flow": null,
      "grid_auto_rows": null,
      "grid_column": null,
      "grid_gap": null,
      "grid_row": null,
      "grid_template_areas": null,
      "grid_template_columns": null,
      "grid_template_rows": null,
      "height": null,
      "justify_content": null,
      "justify_items": null,
      "left": null,
      "margin": null,
      "max_height": null,
      "max_width": null,
      "min_height": null,
      "min_width": null,
      "object_fit": null,
      "object_position": null,
      "order": null,
      "overflow": null,
      "overflow_x": null,
      "overflow_y": null,
      "padding": null,
      "right": null,
      "top": null,
      "visibility": null,
      "width": null
     }
    },
    "ca73b85843a941559f832bfc4d697ed3": {
     "model_module": "@jupyter-widgets/base",
     "model_module_version": "1.2.0",
     "model_name": "LayoutModel",
     "state": {
      "_model_module": "@jupyter-widgets/base",
      "_model_module_version": "1.2.0",
      "_model_name": "LayoutModel",
      "_view_count": null,
      "_view_module": "@jupyter-widgets/base",
      "_view_module_version": "1.2.0",
      "_view_name": "LayoutView",
      "align_content": null,
      "align_items": null,
      "align_self": null,
      "border": null,
      "bottom": null,
      "display": null,
      "flex": null,
      "flex_flow": null,
      "grid_area": null,
      "grid_auto_columns": null,
      "grid_auto_flow": null,
      "grid_auto_rows": null,
      "grid_column": null,
      "grid_gap": null,
      "grid_row": null,
      "grid_template_areas": null,
      "grid_template_columns": null,
      "grid_template_rows": null,
      "height": null,
      "justify_content": null,
      "justify_items": null,
      "left": null,
      "margin": null,
      "max_height": null,
      "max_width": null,
      "min_height": null,
      "min_width": null,
      "object_fit": null,
      "object_position": null,
      "order": null,
      "overflow": null,
      "overflow_x": null,
      "overflow_y": null,
      "padding": null,
      "right": null,
      "top": null,
      "visibility": null,
      "width": null
     }
    },
    "da81d8fbd00f4c619562185364f3294d": {
     "model_module": "@jupyter-widgets/controls",
     "model_module_version": "1.5.0",
     "model_name": "DescriptionStyleModel",
     "state": {
      "_model_module": "@jupyter-widgets/controls",
      "_model_module_version": "1.5.0",
      "_model_name": "DescriptionStyleModel",
      "_view_count": null,
      "_view_module": "@jupyter-widgets/base",
      "_view_module_version": "1.2.0",
      "_view_name": "StyleView",
      "description_width": ""
     }
    },
    "e7997bcc7fe041ec9fade5af399df9e3": {
     "model_module": "@jupyter-widgets/base",
     "model_module_version": "1.2.0",
     "model_name": "LayoutModel",
     "state": {
      "_model_module": "@jupyter-widgets/base",
      "_model_module_version": "1.2.0",
      "_model_name": "LayoutModel",
      "_view_count": null,
      "_view_module": "@jupyter-widgets/base",
      "_view_module_version": "1.2.0",
      "_view_name": "LayoutView",
      "align_content": null,
      "align_items": null,
      "align_self": null,
      "border": null,
      "bottom": null,
      "display": null,
      "flex": null,
      "flex_flow": null,
      "grid_area": null,
      "grid_auto_columns": null,
      "grid_auto_flow": null,
      "grid_auto_rows": null,
      "grid_column": null,
      "grid_gap": null,
      "grid_row": null,
      "grid_template_areas": null,
      "grid_template_columns": null,
      "grid_template_rows": null,
      "height": null,
      "justify_content": null,
      "justify_items": null,
      "left": null,
      "margin": null,
      "max_height": null,
      "max_width": null,
      "min_height": null,
      "min_width": null,
      "object_fit": null,
      "object_position": null,
      "order": null,
      "overflow": null,
      "overflow_x": null,
      "overflow_y": null,
      "padding": null,
      "right": null,
      "top": null,
      "visibility": null,
      "width": null
     }
    },
    "e98727718f074cc4ae8c236470fc6c9d": {
     "model_module": "@jupyter-widgets/controls",
     "model_module_version": "1.5.0",
     "model_name": "ProgressStyleModel",
     "state": {
      "_model_module": "@jupyter-widgets/controls",
      "_model_module_version": "1.5.0",
      "_model_name": "ProgressStyleModel",
      "_view_count": null,
      "_view_module": "@jupyter-widgets/base",
      "_view_module_version": "1.2.0",
      "_view_name": "StyleView",
      "bar_color": null,
      "description_width": ""
     }
    },
    "ef922ff4dd244c13acb49bd0135ec224": {
     "model_module": "@jupyter-widgets/base",
     "model_module_version": "1.2.0",
     "model_name": "LayoutModel",
     "state": {
      "_model_module": "@jupyter-widgets/base",
      "_model_module_version": "1.2.0",
      "_model_name": "LayoutModel",
      "_view_count": null,
      "_view_module": "@jupyter-widgets/base",
      "_view_module_version": "1.2.0",
      "_view_name": "LayoutView",
      "align_content": null,
      "align_items": null,
      "align_self": null,
      "border": null,
      "bottom": null,
      "display": null,
      "flex": null,
      "flex_flow": null,
      "grid_area": null,
      "grid_auto_columns": null,
      "grid_auto_flow": null,
      "grid_auto_rows": null,
      "grid_column": null,
      "grid_gap": null,
      "grid_row": null,
      "grid_template_areas": null,
      "grid_template_columns": null,
      "grid_template_rows": null,
      "height": null,
      "justify_content": null,
      "justify_items": null,
      "left": null,
      "margin": null,
      "max_height": null,
      "max_width": null,
      "min_height": null,
      "min_width": null,
      "object_fit": null,
      "object_position": null,
      "order": null,
      "overflow": null,
      "overflow_x": null,
      "overflow_y": null,
      "padding": null,
      "right": null,
      "top": null,
      "visibility": null,
      "width": null
     }
    },
    "fe970ccbc2bf47c5aed6ae2f0aa21cb4": {
     "model_module": "@jupyter-widgets/base",
     "model_module_version": "1.2.0",
     "model_name": "LayoutModel",
     "state": {
      "_model_module": "@jupyter-widgets/base",
      "_model_module_version": "1.2.0",
      "_model_name": "LayoutModel",
      "_view_count": null,
      "_view_module": "@jupyter-widgets/base",
      "_view_module_version": "1.2.0",
      "_view_name": "LayoutView",
      "align_content": null,
      "align_items": null,
      "align_self": null,
      "border": null,
      "bottom": null,
      "display": null,
      "flex": null,
      "flex_flow": null,
      "grid_area": null,
      "grid_auto_columns": null,
      "grid_auto_flow": null,
      "grid_auto_rows": null,
      "grid_column": null,
      "grid_gap": null,
      "grid_row": null,
      "grid_template_areas": null,
      "grid_template_columns": null,
      "grid_template_rows": null,
      "height": null,
      "justify_content": null,
      "justify_items": null,
      "left": null,
      "margin": null,
      "max_height": null,
      "max_width": null,
      "min_height": null,
      "min_width": null,
      "object_fit": null,
      "object_position": null,
      "order": null,
      "overflow": null,
      "overflow_x": null,
      "overflow_y": null,
      "padding": null,
      "right": null,
      "top": null,
      "visibility": null,
      "width": null
     }
    }
   }
  }
 },
 "nbformat": 4,
 "nbformat_minor": 1
}
